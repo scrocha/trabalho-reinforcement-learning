{
 "cells": [
  {
   "cell_type": "code",
   "execution_count": null,
   "metadata": {},
   "outputs": [],
   "source": [
    "from models import Environment, Coder, Reviewer, Judge, prompts\n",
    "import pandas as pd"
   ]
  },
  {
   "cell_type": "code",
   "execution_count": 3,
   "metadata": {},
   "outputs": [
    {
     "name": "stdout",
     "output_type": "stream",
     "text": [
      "Index(['Position', 'Name', 'Competicao', 'Classe'], dtype='object')\n"
     ]
    }
   ],
   "source": [
    "data = pd.read_csv(\".//data/raw_data.csv\")\n",
    "print(data.columns)"
   ]
  },
  {
   "cell_type": "code",
   "execution_count": 3,
   "metadata": {},
   "outputs": [],
   "source": [
    "df_list = list()\n",
    "single_keys = data[\"Competicao\"] + \"/\" + data[\"Classe\"]\n",
    "\n",
    "for key in pd.unique(single_keys):\n",
    "    competition, classe = key.split(\"/\")\n",
    "\n",
    "    df = data[(data[\"Competicao\"] == competition) & (data[\"Classe\"] == classe)]\n",
    "    df.reset_index(drop=True, inplace=True)\n",
    "    df_list.append(df)"
   ]
  },
  {
   "cell_type": "code",
   "execution_count": 4,
   "metadata": {},
   "outputs": [],
   "source": [
    "df_golden = pd.read_csv(\".//data/golden_data.csv\")"
   ]
  },
  {
   "cell_type": "code",
   "execution_count": 5,
   "metadata": {},
   "outputs": [],
   "source": [
    "CODER1MODEL = \"llama3.2:3b\"\n",
    "CODER2MODEL = \"qwen2.5-coder:7b\"\n",
    "REVIEWERMODEL = \"llama3.1:latest\"\n",
    "JUDGEMODEL = \"llama3.1:latest\""
   ]
  },
  {
   "cell_type": "code",
   "execution_count": 6,
   "metadata": {},
   "outputs": [],
   "source": [
    "coder1 = Coder(CODER1MODEL)"
   ]
  },
  {
   "cell_type": "code",
   "execution_count": 7,
   "metadata": {},
   "outputs": [],
   "source": [
    "coder2 = Coder(CODER2MODEL)"
   ]
  },
  {
   "cell_type": "code",
   "execution_count": 8,
   "metadata": {},
   "outputs": [],
   "source": [
    "reviewer = Reviewer(REVIEWERMODEL)"
   ]
  },
  {
   "cell_type": "code",
   "execution_count": 9,
   "metadata": {},
   "outputs": [],
   "source": [
    "judge = Judge(prompts.JUDGE , JUDGEMODEL)"
   ]
  },
  {
   "cell_type": "code",
   "execution_count": 10,
   "metadata": {},
   "outputs": [],
   "source": [
    "enviornment = Environment(coder1, coder2, reviewer, judge, df_list, df_golden)"
   ]
  },
  {
   "cell_type": "code",
   "execution_count": 11,
   "metadata": {},
   "outputs": [
    {
     "name": "stderr",
     "output_type": "stream",
     "text": [
      "Traceback (most recent call last):\n",
      "  File \"/home/scrocha/projetos/ReinforcementLearning/.conda/lib/python3.11/site-packages/pandasai/pipelines/chat/code_execution.py\", line 85, in execute\n",
      "    result = self.execute_code(code_to_run, code_context)\n",
      "             ^^^^^^^^^^^^^^^^^^^^^^^^^^^^^^^^^^^^^^^^^^^^\n",
      "  File \"/home/scrocha/projetos/ReinforcementLearning/.conda/lib/python3.11/site-packages/pandasai/pipelines/chat/code_execution.py\", line 171, in execute_code\n",
      "    exec(code, environment)\n",
      "  File \"<string>\", line 25, in <module>\n",
      "  File \"<string>\", line 16, in main\n",
      "  File \"/home/scrocha/projetos/ReinforcementLearning/.conda/lib/python3.11/site-packages/pandasai/safe_libs/restricted_pandas.py\", line 109, in __getattr__\n",
      "    raise AttributeError(f\"'{name}' is not allowed in RestrictedPandas\")\n",
      "AttributeError: 'read_csv' is not allowed in RestrictedPandas\n",
      "\n",
      "During handling of the above exception, another exception occurred:\n",
      "\n",
      "Traceback (most recent call last):\n",
      "  File \"/home/scrocha/projetos/ReinforcementLearning/.conda/lib/python3.11/site-packages/pandasai/pipelines/chat/generate_chat_pipeline.py\", line 335, in run\n",
      "    ).run(input)\n",
      "      ^^^^^^^^^^\n",
      "  File \"/home/scrocha/projetos/ReinforcementLearning/.conda/lib/python3.11/site-packages/pandasai/pipelines/pipeline.py\", line 137, in run\n",
      "    raise e\n",
      "  File \"/home/scrocha/projetos/ReinforcementLearning/.conda/lib/python3.11/site-packages/pandasai/pipelines/pipeline.py\", line 101, in run\n",
      "    step_output = logic.execute(\n",
      "                  ^^^^^^^^^^^^^^\n",
      "  File \"/home/scrocha/projetos/ReinforcementLearning/.conda/lib/python3.11/site-packages/pandasai/pipelines/chat/code_execution.py\", line 125, in execute\n",
      "    code_to_run = self._retry_run_code(\n",
      "                  ^^^^^^^^^^^^^^^^^^^^^\n",
      "  File \"/home/scrocha/projetos/ReinforcementLearning/.conda/lib/python3.11/site-packages/pandasai/pipelines/chat/code_execution.py\", line 346, in _retry_run_code\n",
      "    return self.on_retry(code, e)\n",
      "           ^^^^^^^^^^^^^^^^^^^^^^\n",
      "  File \"/home/scrocha/projetos/ReinforcementLearning/.conda/lib/python3.11/site-packages/pandasai/pipelines/chat/generate_chat_pipeline.py\", line 162, in on_code_retry\n",
      "    return self.code_exec_error_pipeline.run(correction_input)\n",
      "           ^^^^^^^^^^^^^^^^^^^^^^^^^^^^^^^^^^^^^^^^^^^^^^^^^^^\n",
      "  File \"/home/scrocha/projetos/ReinforcementLearning/.conda/lib/python3.11/site-packages/pandasai/pipelines/chat/error_correction_pipeline/error_correction_pipeline.py\", line 48, in run\n",
      "    return self.pipeline.run(input)\n",
      "           ^^^^^^^^^^^^^^^^^^^^^^^^\n",
      "  File \"/home/scrocha/projetos/ReinforcementLearning/.conda/lib/python3.11/site-packages/pandasai/pipelines/pipeline.py\", line 137, in run\n",
      "    raise e\n",
      "  File \"/home/scrocha/projetos/ReinforcementLearning/.conda/lib/python3.11/site-packages/pandasai/pipelines/pipeline.py\", line 101, in run\n",
      "    step_output = logic.execute(\n",
      "                  ^^^^^^^^^^^^^^\n",
      "  File \"/home/scrocha/projetos/ReinforcementLearning/.conda/lib/python3.11/site-packages/pandasai/pipelines/chat/code_generator.py\", line 33, in execute\n",
      "    code = pipeline_context.config.llm.generate_code(input, pipeline_context)\n",
      "           ^^^^^^^^^^^^^^^^^^^^^^^^^^^^^^^^^^^^^^^^^^^^^^^^^^^^^^^^^^^^^^^^^^\n",
      "  File \"/home/scrocha/projetos/ReinforcementLearning/.conda/lib/python3.11/site-packages/pandasai/llm/base.py\", line 202, in generate_code\n",
      "    return self._extract_code(response)\n",
      "           ^^^^^^^^^^^^^^^^^^^^^^^^^^^^\n",
      "  File \"/home/scrocha/projetos/ReinforcementLearning/.conda/lib/python3.11/site-packages/pandasai/llm/base.py\", line 127, in _extract_code\n",
      "    raise NoCodeFoundError(\"No code found in the response\")\n",
      "pandasai.exceptions.NoCodeFoundError: No code found in the response\n",
      "Traceback (most recent call last):\n",
      "  File \"<string>\", line 21, in read_csv\n",
      "  File \"/home/scrocha/projetos/ReinforcementLearning/.conda/lib/python3.11/site-packages/pandasai/safe_libs/restricted_pandas.py\", line 109, in __getattr__\n",
      "    raise AttributeError(f\"'{name}' is not allowed in RestrictedPandas\")\n",
      "AttributeError: 'read_csv' is not allowed in RestrictedPandas\n",
      "\n",
      "During handling of the above exception, another exception occurred:\n",
      "\n",
      "Traceback (most recent call last):\n",
      "  File \"/home/scrocha/projetos/ReinforcementLearning/.conda/lib/python3.11/site-packages/pandasai/pipelines/chat/generate_chat_pipeline.py\", line 335, in run\n",
      "    ).run(input)\n",
      "      ^^^^^^^^^^\n",
      "  File \"/home/scrocha/projetos/ReinforcementLearning/.conda/lib/python3.11/site-packages/pandasai/pipelines/pipeline.py\", line 137, in run\n",
      "    raise e\n",
      "  File \"/home/scrocha/projetos/ReinforcementLearning/.conda/lib/python3.11/site-packages/pandasai/pipelines/pipeline.py\", line 101, in run\n",
      "    step_output = logic.execute(\n",
      "                  ^^^^^^^^^^^^^^\n",
      "  File \"/home/scrocha/projetos/ReinforcementLearning/.conda/lib/python3.11/site-packages/pandasai/pipelines/chat/code_execution.py\", line 113, in execute\n",
      "    raise e\n",
      "  File \"/home/scrocha/projetos/ReinforcementLearning/.conda/lib/python3.11/site-packages/pandasai/pipelines/chat/code_execution.py\", line 85, in execute\n",
      "    result = self.execute_code(code_to_run, code_context)\n",
      "             ^^^^^^^^^^^^^^^^^^^^^^^^^^^^^^^^^^^^^^^^^^^^\n",
      "  File \"/home/scrocha/projetos/ReinforcementLearning/.conda/lib/python3.11/site-packages/pandasai/pipelines/chat/code_execution.py\", line 171, in execute_code\n",
      "    exec(code, environment)\n",
      "  File \"<string>\", line 45, in <module>\n",
      "  File \"<string>\", line 31, in main\n",
      "  File \"<string>\", line 23, in read_csv\n",
      "NameError: name 'FileNotFoundError' is not defined\n"
     ]
    }
   ],
   "source": [
    "result = enviornment.train(prompts.CODER1, prompts.CODER2, prompts.REVIEWER, prompts.REPORT, 3)"
   ]
  },
  {
   "cell_type": "code",
   "execution_count": 12,
   "metadata": {},
   "outputs": [],
   "source": [
    "def string_to_file(string, filename):\n",
    "    with open(filename, \"w\") as f:\n",
    "        f.write(string)"
   ]
  },
  {
   "cell_type": "code",
   "execution_count": 13,
   "metadata": {},
   "outputs": [],
   "source": [
    "string_to_file(result[0], \"relatório_1.txt\")\n",
    "string_to_file(result[1], \"avaliação_1.txt\")"
   ]
  },
  {
   "cell_type": "code",
   "execution_count": 14,
   "metadata": {},
   "outputs": [
    {
     "name": "stderr",
     "output_type": "stream",
     "text": [
      "Traceback (most recent call last):\n",
      "  File \"/home/scrocha/projetos/ReinforcementLearning/.conda/lib/python3.11/site-packages/pandasai/pipelines/chat/generate_chat_pipeline.py\", line 335, in run\n",
      "    ).run(input)\n",
      "      ^^^^^^^^^^\n",
      "  File \"/home/scrocha/projetos/ReinforcementLearning/.conda/lib/python3.11/site-packages/pandasai/pipelines/pipeline.py\", line 137, in run\n",
      "    raise e\n",
      "  File \"/home/scrocha/projetos/ReinforcementLearning/.conda/lib/python3.11/site-packages/pandasai/pipelines/pipeline.py\", line 101, in run\n",
      "    step_output = logic.execute(\n",
      "                  ^^^^^^^^^^^^^^\n",
      "  File \"/home/scrocha/projetos/ReinforcementLearning/.conda/lib/python3.11/site-packages/pandasai/pipelines/chat/code_execution.py\", line 113, in execute\n",
      "    raise e\n",
      "  File \"/home/scrocha/projetos/ReinforcementLearning/.conda/lib/python3.11/site-packages/pandasai/pipelines/chat/code_execution.py\", line 85, in execute\n",
      "    result = self.execute_code(code_to_run, code_context)\n",
      "             ^^^^^^^^^^^^^^^^^^^^^^^^^^^^^^^^^^^^^^^^^^^^\n",
      "  File \"/home/scrocha/projetos/ReinforcementLearning/.conda/lib/python3.11/site-packages/pandasai/pipelines/chat/code_execution.py\", line 171, in execute_code\n",
      "    exec(code, environment)\n",
      "  File \"<string>\", line 39, in <module>\n",
      "  File \"<string>\", line 29, in main\n",
      "  File \"/home/scrocha/projetos/ReinforcementLearning/.conda/lib/python3.11/site-packages/pandasai/safe_libs/restricted_pandas.py\", line 109, in __getattr__\n",
      "    raise AttributeError(f\"'{name}' is not allowed in RestrictedPandas\")\n",
      "AttributeError: 'read_csv' is not allowed in RestrictedPandas\n"
     ]
    },
    {
     "name": "stdout",
     "output_type": "stream",
     "text": [
      "     Position                               Name  \\\n",
      "0 0        13      Maenhaut Isaura  Geurts Anouk   \n",
      "  1        16  Omari Carlotta  Sez Carraro Sveva   \n",
      "  2         2         Moss Alice  Berntsson Ebba   \n",
      "\n",
      "                                    Competicao  Classe  \n",
      "0 0  Semaine Olympique Francaise De Voile 2022  49ERFX  \n",
      "  1  Semaine Olympique Francaise De Voile 2022  49ERFX  \n",
      "  2  Semaine Olympique Francaise De Voile 2022  49ERFX  \n",
      "     Position                               Name  \\\n",
      "0 0        13      Maenhaut Isaura  Geurts Anouk   \n",
      "  1        16  Omari Carlotta  Sez Carraro Sveva   \n",
      "  2         2         Moss Alice  Berntsson Ebba   \n",
      "\n",
      "                                    Competicao  Classe  \n",
      "0 0  Semaine Olympique Francaise De Voile 2022  49ERFX  \n",
      "  1  Semaine Olympique Francaise De Voile 2022  49ERFX  \n",
      "  2  Semaine Olympique Francaise De Voile 2022  49ERFX  \n"
     ]
    },
    {
     "name": "stderr",
     "output_type": "stream",
     "text": [
      "Traceback (most recent call last):\n",
      "  File \"/home/scrocha/projetos/ReinforcementLearning/.conda/lib/python3.11/site-packages/pandasai/pipelines/chat/generate_chat_pipeline.py\", line 335, in run\n",
      "    ).run(input)\n",
      "      ^^^^^^^^^^\n",
      "  File \"/home/scrocha/projetos/ReinforcementLearning/.conda/lib/python3.11/site-packages/pandasai/pipelines/pipeline.py\", line 137, in run\n",
      "    raise e\n",
      "  File \"/home/scrocha/projetos/ReinforcementLearning/.conda/lib/python3.11/site-packages/pandasai/pipelines/pipeline.py\", line 101, in run\n",
      "    step_output = logic.execute(\n",
      "                  ^^^^^^^^^^^^^^\n",
      "  File \"/home/scrocha/projetos/ReinforcementLearning/.conda/lib/python3.11/site-packages/pandasai/pipelines/chat/code_execution.py\", line 113, in execute\n",
      "    raise e\n",
      "  File \"/home/scrocha/projetos/ReinforcementLearning/.conda/lib/python3.11/site-packages/pandasai/pipelines/chat/code_execution.py\", line 85, in execute\n",
      "    result = self.execute_code(code_to_run, code_context)\n",
      "             ^^^^^^^^^^^^^^^^^^^^^^^^^^^^^^^^^^^^^^^^^^^^\n",
      "  File \"/home/scrocha/projetos/ReinforcementLearning/.conda/lib/python3.11/site-packages/pandasai/pipelines/chat/code_execution.py\", line 175, in execute_code\n",
      "    raise NoResultFoundError(\"No result returned\")\n",
      "pandasai.exceptions.NoResultFoundError: No result returned\n"
     ]
    }
   ],
   "source": [
    "result2 = enviornment.train(prompts.CODER1, prompts.CODER2, prompts.REVIEWER, prompts.REPORT, 10)"
   ]
  },
  {
   "cell_type": "code",
   "execution_count": 15,
   "metadata": {},
   "outputs": [],
   "source": [
    "string_to_file(result2[0], \"relatório_2.txt\")\n",
    "string_to_file(result2[1], \"avaliação_2.txt\")"
   ]
  }
 ],
 "metadata": {
  "kernelspec": {
   "display_name": "Python 3",
   "language": "python",
   "name": "python3"
  },
  "language_info": {
   "codemirror_mode": {
    "name": "ipython",
    "version": 3
   },
   "file_extension": ".py",
   "mimetype": "text/x-python",
   "name": "python",
   "nbconvert_exporter": "python",
   "pygments_lexer": "ipython3",
   "version": "3.12.7"
  }
 },
 "nbformat": 4,
 "nbformat_minor": 2
}
